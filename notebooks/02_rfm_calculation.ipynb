{
 "cells": [
  {
   "cell_type": "code",
   "execution_count": null,
   "id": "c3689448",
   "metadata": {
    "vscode": {
     "languageId": "plaintext"
    }
   },
   "outputs": [],
   "source": [
    "#Calcul du RFM classique\n",
    "import pandas as pd\n",
    "import numpy as np\n",
    "\n",
    "df = df_rfm_90d.copy()\n",
    "\n",
    "# --- R Score (inverse de la récence) ---\n",
    "df['r_score'] = pd.qcut(df['days_since_last_transaction'], 5, labels=[5,4,3,2,1]).astype(int)\n",
    "\n",
    "# --- F Score ---\n",
    "df['f_score'] = pd.qcut(df['txn_count_90d'], 5, labels=[1,2,3,4,5]).astype(int)\n",
    "\n",
    "# --- M Score ---\n",
    "df['m_score'] = pd.qcut(df['total_txn_volume_90d'], 5, labels=[1,2,3,4,5]).astype(int)\n",
    "\n",
    "# --- RFM Score ---\n",
    "df['rfm_score'] = df['r_score'] + df['f_score'] + df['m_score']\n",
    "\n",
    "# --- Vérification ---\n",
    "rfm_classic = df[['clientid','r_score','f_score','m_score','rfm_score']]\n",
    "rfm_classic.head()"
   ]
  }
 ],
 "metadata": {
  "language_info": {
   "name": "python"
  }
 },
 "nbformat": 4,
 "nbformat_minor": 5
}
