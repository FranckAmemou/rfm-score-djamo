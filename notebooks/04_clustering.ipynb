{
 "cells": [
  {
   "cell_type": "code",
   "execution_count": null,
   "id": "59718efd",
   "metadata": {
    "vscode": {
     "languageId": "plaintext"
    }
   },
   "outputs": [],
   "source": [
    "from sklearn.cluster import KMeans\n",
    "\n",
    "# --- Nombre de clusters (k) ---\n",
    "k = 10\n",
    "\n",
    "# --- Exécution de K-Means sur les features standardisées/log-transformées ---\n",
    "kmeans = KMeans(n_clusters=k, random_state=42, n_init=50)\n",
    "clusters = kmeans.fit_predict(X_scaled_df)\n",
    "\n",
    "# Ajouter les clusters au DataFrame original\n",
    "df['cluster_id'] = clusters\n",
    "\n",
    "# --- Calcul de la moyenne RFM pour chaque cluster ---\n",
    "cluster_rfm_summary = df.groupby('cluster_id')[['days_since_last_transaction', 'txn_count_90d', 'total_txn_volume_90d']].mean()\n",
    "cluster_rfm_summary = cluster_rfm_summary.rename(columns={\n",
    "    'days_since_last_transaction': 'recency_mean',\n",
    "    'txn_count_90d': 'frequency_mean',\n",
    "    'total_txn_volume_90d': 'monetary_mean'\n",
    "}).sort_values(by=['recency_mean', 'frequency_mean', 'monetary_mean'], ascending=[True, False, False])\n",
    "\n",
    "# --- Attribution des noms aux clusters selon leur profil moyen ---\n",
    "cluster_names = [\n",
    "    '01-Champions', '02-Loyaux Premium', '03-Grands Dépensiers', '04-Fidèles Modérés',\n",
    "    '05-Clients Potentiels', '06-Moyens Actifs', '07-En Risque', '08-À Réactiver',\n",
    "    '09-Dormants', '10-Perdus'\n",
    "]\n",
    "\n",
    "# Mapper cluster_id -> cluster_name\n",
    "cluster_name_mapping = dict(zip(cluster_rfm_summary.index, cluster_names))\n",
    "df['cluster_name'] = df['cluster_id'].map(cluster_name_mapping)\n",
    "\n",
    "# --- Vérification ---\n",
    "df[['clientid', 'cluster_id', 'cluster_name', 'days_since_last_transaction', 'txn_count_90d', 'total_txn_volume_90d']]\n",
    "rfm_segmented = df[['clientid', 'cluster_id', 'cluster_name', 'days_since_last_transaction', 'txn_count_90d', 'total_txn_volume_90d']]\n",
    "rfm_segmented.head(10)\n"
   ]
  }
 ],
 "metadata": {
  "language_info": {
   "name": "python"
  }
 },
 "nbformat": 4,
 "nbformat_minor": 5
}
