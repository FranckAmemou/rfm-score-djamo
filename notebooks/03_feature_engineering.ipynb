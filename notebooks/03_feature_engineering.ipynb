{
 "cells": [
  {
   "cell_type": "code",
   "execution_count": null,
   "id": "4ba0a5a4",
   "metadata": {
    "vscode": {
     "languageId": "plaintext"
    }
   },
   "outputs": [],
   "source": [
    "import pandas as pd\n",
    "import numpy as np\n",
    "from sklearn.preprocessing import StandardScaler\n",
    "\n",
    "# Copier le DataFrame RFM 90 jours\n",
    "df = df_rfm_90d.copy()\n",
    "\n",
    "# --- Log-transform sur R, F, M pour limiter l'effet des outliers ---\n",
    "df['log_recency'] = np.log1p(df['days_since_last_transaction'])\n",
    "df['log_frequency'] = np.log1p(df['txn_count_90d'])\n",
    "df['log_monetary'] = np.log1p(df['total_txn_volume_90d'])\n",
    "\n",
    "# --- Sélection des features pour clustering ---\n",
    "features_for_clustering = [\n",
    "    'log_recency',\n",
    "    'log_frequency',\n",
    "    'log_monetary',\n",
    "    'active_days_count_90d',\n",
    "    'nb_active_products',\n",
    "    'value_consistency_std',\n",
    "    'txn_frequency_ratio',\n",
    "    'avg_total_txn_volume_90d',\n",
    "    'vault_balance',\n",
    "    'aum_snapshot',\n",
    "    'total_assets_snapshot',\n",
    "    'balance_velocity_90d'\n",
    "]\n",
    "\n",
    "X = df[features_for_clustering].copy()\n",
    "\n",
    "# --- Standardisation pour mettre toutes les features sur la même échelle ---\n",
    "scaler = StandardScaler()\n",
    "X_scaled = scaler.fit_transform(X)\n",
    "\n",
    "# Convertir en DataFrame pour garder les noms de colonnes et l'index clientid\n",
    "X_scaled_df = pd.DataFrame(X_scaled, columns=features_for_clustering, index=df['clientid'])\n",
    "\n",
    "# Vérification\n",
    "X_scaled_df.head()\n"
   ]
  }
 ],
 "metadata": {
  "language_info": {
   "name": "python"
  }
 },
 "nbformat": 4,
 "nbformat_minor": 5
}
